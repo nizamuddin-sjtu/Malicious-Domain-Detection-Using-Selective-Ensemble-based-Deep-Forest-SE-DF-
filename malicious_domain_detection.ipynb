{
 "cells": [
  {
   "cell_type": "code",
   "execution_count": 1,
   "id": "462e43cd",
   "metadata": {},
   "outputs": [],
   "source": [
    "# 1) IMPORTS\n",
    "import pandas as pd\n",
    "import numpy as np\n",
    "import pickle, string, math\n",
    "from sklearn.ensemble import RandomForestClassifier\n",
    "from sklearn.metrics import roc_auc_score\n",
    "from collections import Counter\n",
    "\n",
    "# 2) FEATURE EXTRACTION FUNCTION\n",
    "def shannon_entropy(domain):\n",
    "    prob = [float(domain.count(c)) / len(domain) for c in dict.fromkeys(list(domain))]\n",
    "    return - sum([p * math.log2(p) for p in prob])\n",
    "\n",
    "def extract_features(domain):\n",
    "    features = {}\n",
    "    features['length'] = len(domain)\n",
    "    features['num_digits'] = sum(c.isdigit() for c in domain)\n",
    "    features['num_letters'] = sum(c.isalpha() for c in domain)\n",
    "    features['num_hyphens'] = domain.count('-')\n",
    "    features['num_dots'] = domain.count('.')\n",
    "    features['entropy'] = shannon_entropy(domain)\n",
    "    features['digit_ratio'] = features['num_digits'] / (features['length'] + 1e-5)\n",
    "    features['letter_ratio'] = features['num_letters'] / (features['length'] + 1e-5)\n",
    "    features['num_levels'] = domain.count('.') + 1\n",
    "    splits = domain.split('.')\n",
    "    features['max_segment_len'] = max(len(s) for s in splits)\n",
    "    features['min_segment_len'] = min(len(s) for s in splits)\n",
    "    vowels = set('aeiou')\n",
    "    features['num_vowels'] = sum(c in vowels for c in domain.lower())\n",
    "    features['vowel_ratio'] = features['num_vowels'] / (features['length'] + 1e-5)\n",
    "    features['starts_num'] = int(domain[0].isdigit())\n",
    "    features['ends_num'] = int(domain[-1].isdigit())\n",
    "    features['repeating_char_ratio'] = sum((Counter(domain)[c] > 1) for c in domain)/(len(set(domain))+1e-5)\n",
    "    features['alpha_numeric_ratio'] = (features['num_digits']+features['num_letters'])/(features['length']+1e-5)\n",
    "    features['special_char_ratio'] = (features['length']-(features['num_letters']+features['num_digits']))/(features['length']+1e-5)\n",
    "    features['mean_pos_digit'] = np.mean([i for i,c in enumerate(domain) if c.isdigit()]+[0])\n",
    "    features['mean_pos_letter'] = np.mean([i for i,c in enumerate(domain) if c.isalpha()]+[0])\n",
    "    features['std_pos_letter'] = np.std([i for i,c in enumerate(domain) if c.isalpha()]+[0])\n",
    "    features['std_pos_digit'] = np.std([i for i,c in enumerate(domain) if c.isdigit()]+[0])\n",
    "    features['is_ip_like'] = int(all(c in string.digits+'.' for c in domain))\n",
    "    return list(features.values())\n",
    "\n",
    "# 3) SELECTIVE DEEP FOREST CLASS\n",
    "class SelectiveDeepForest:\n",
    "    def __init__(self, n_layers=5, n_estimators=100, top_ratio=0.7):\n",
    "        self.n_layers = n_layers\n",
    "        self.n_estimators = n_estimators\n",
    "        self.top_ratio = top_ratio\n",
    "        self.layers = []\n",
    "    def _select_trees(self, forest, X, y):\n",
    "        aucs=[]\n",
    "        for i,tree in enumerate(forest.estimators_):\n",
    "            prob=tree.predict_proba(X)[:,1]\n",
    "            aucs.append((roc_auc_score(y, prob),i))\n",
    "        aucs.sort(reverse=True)\n",
    "        top_k=int(len(aucs)*self.top_ratio)\n",
    "        return [forest.estimators_[i] for (auc,i) in aucs[:top_k]]\n",
    "    def fit(self, X,y):\n",
    "        Xc=X\n",
    "        for _ in range(self.n_layers):\n",
    "            rf=RandomForestClassifier(n_estimators=self.n_estimators)\n",
    "            rf.fit(Xc,y)\n",
    "            selected=self._select_trees(rf,Xc,y)\n",
    "            self.layers.append(selected)\n",
    "            proba=rf.predict_proba(Xc)\n",
    "            Xc=np.hstack((Xc,proba))\n",
    "    def predict_proba(self,X):\n",
    "        Xc=X\n",
    "        for trees in self.layers:\n",
    "            probs = np.mean([t.predict_proba(Xc) for t in trees],axis=0)\n",
    "            Xc=np.hstack((Xc,probs))\n",
    "        return probs\n",
    "    def predict(self,X):\n",
    "        return (self.predict_proba(X)[:,1]>=0.5).astype(int)"
   ]
  },
  {
   "cell_type": "code",
   "execution_count": 2,
   "id": "1148f71a",
   "metadata": {},
   "outputs": [
    {
     "name": "stdout",
     "output_type": "stream",
     "text": [
      "Training complete & model.pkl saved ✔\n"
     ]
    }
   ],
   "source": [
    "df = pd.read_csv(\"domain_classification_dataset.csv\")\n",
    "X = np.vstack(df['Domain'].apply(extract_features).values)\n",
    "y = df['Label'].values\n",
    "\n",
    "model = SelectiveDeepForest(n_layers=5,n_estimators=100,top_ratio=0.7)\n",
    "model.fit(X,y)\n",
    "\n",
    "pickle.dump(model,open(\"model.pkl\",\"wb\"))\n",
    "print(\"Training complete & model.pkl saved ✔\")"
   ]
  }
 ],
 "metadata": {
  "kernelspec": {
   "display_name": "Python 3 (ipykernel)",
   "language": "python",
   "name": "python3"
  },
  "language_info": {
   "codemirror_mode": {
    "name": "ipython",
    "version": 3
   },
   "file_extension": ".py",
   "mimetype": "text/x-python",
   "name": "python",
   "nbconvert_exporter": "python",
   "pygments_lexer": "ipython3",
   "version": "3.11.5"
  }
 },
 "nbformat": 4,
 "nbformat_minor": 5
}
